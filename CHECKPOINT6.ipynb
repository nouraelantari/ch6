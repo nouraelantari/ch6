{
 "cells": [
  {
   "cell_type": "markdown",
   "id": "20cacdf9",
   "metadata": {},
   "source": [
    "# quest 1\n"
   ]
  },
  {
   "cell_type": "code",
   "execution_count": 2,
   "id": "ba3b5fcc",
   "metadata": {},
   "outputs": [],
   "source": [
    "import numpy as np"
   ]
  },
  {
   "cell_type": "code",
   "execution_count": 17,
   "id": "cf626207",
   "metadata": {},
   "outputs": [
    {
     "name": "stdout",
     "output_type": "stream",
     "text": [
      "[[2, 5], [4, 8]]\n"
     ]
    },
    {
     "data": {
      "text/plain": [
       "list"
      ]
     },
     "execution_count": 17,
     "metadata": {},
     "output_type": "execute_result"
    }
   ],
   "source": [
    "a=np.array([[2,5],[4,8]])\n",
    "type (a)\n",
    "l=a.tolist()\n",
    "print(l)\n",
    "type(l)"
   ]
  },
  {
   "cell_type": "markdown",
   "id": "292f713d",
   "metadata": {},
   "source": [
    "# quest2"
   ]
  },
  {
   "cell_type": "markdown",
   "id": "605523cc",
   "metadata": {},
   "source": [
    "method 1"
   ]
  },
  {
   "cell_type": "code",
   "execution_count": 19,
   "id": "78e5ee2e",
   "metadata": {},
   "outputs": [
    {
     "data": {
      "text/plain": [
       "14"
      ]
     },
     "execution_count": 19,
     "metadata": {},
     "output_type": "execute_result"
    }
   ],
   "source": [
    "a=np.array([[2,5,3],[4,8,5],[1,7,4]])\n",
    "s=np.trace(a)\n",
    "s"
   ]
  },
  {
   "cell_type": "markdown",
   "id": "a30c4f49",
   "metadata": {},
   "source": [
    "method 2\n"
   ]
  },
  {
   "cell_type": "code",
   "execution_count": 20,
   "id": "6c6d79ac",
   "metadata": {},
   "outputs": [
    {
     "data": {
      "text/plain": [
       "14"
      ]
     },
     "execution_count": 20,
     "metadata": {},
     "output_type": "execute_result"
    }
   ],
   "source": [
    "a=np.array([[2,5,3],[4,8,5],[1,7,4]])\n",
    "d=np.diagonal(a)\n",
    "s=0\n",
    "for i in d:\n",
    "    s=s+i\n",
    "s"
   ]
  },
  {
   "cell_type": "markdown",
   "id": "dfc7679b",
   "metadata": {},
   "source": [
    "# quest2\n"
   ]
  },
  {
   "cell_type": "code",
   "execution_count": 23,
   "id": "3f1b3066",
   "metadata": {},
   "outputs": [
    {
     "name": "stdout",
     "output_type": "stream",
     "text": [
      "this number is higher than 3: 5\n",
      "this number is higher than 3: 4\n",
      "this number is higher than 3: 8\n",
      "this number is higher than 3: 5\n",
      "this number is higher than 3: 7\n",
      "this number is higher than 3: 4\n"
     ]
    }
   ],
   "source": [
    "a=np.array([[2,5,3],[4,8,5],[1,7,4]])\n",
    "x=3\n",
    "for i in range(len(a)):\n",
    "    for j in range(len(a)):\n",
    "        if a[i][j]>x:\n",
    "            print (\"this number is higher than 3:\",a[i][j])\n",
    "    "
   ]
  },
  {
   "cell_type": "code",
   "execution_count": 28,
   "id": "10bfb3cf",
   "metadata": {},
   "outputs": [
    {
     "data": {
      "text/plain": [
       "array([[ 8, 14,  3],\n",
       "       [ 8, 17,  6],\n",
       "       [ 3, 12,  5]])"
      ]
     },
     "execution_count": 28,
     "metadata": {},
     "output_type": "execute_result"
    }
   ],
   "source": [
    "A=np.array([[2,5,3],[4,8,5],[1,7,4]])\n",
    "B=np.array([[6,9,0],[4,9,1],[2,5,1]])\n",
    "C=np.add(A,B)\n",
    "C"
   ]
  },
  {
   "cell_type": "markdown",
   "id": "84af00df",
   "metadata": {},
   "source": [
    "met1"
   ]
  },
  {
   "cell_type": "code",
   "execution_count": 35,
   "id": "004f7637",
   "metadata": {},
   "outputs": [
    {
     "data": {
      "text/plain": [
       "array([ 6.,  8., 10.])"
      ]
     },
     "execution_count": 35,
     "metadata": {},
     "output_type": "execute_result"
    }
   ],
   "source": [
    "A=np.array([[3,6,9],[12,3,9],[9,6,15]])\n",
    "m=np.mean(A,axis=1)\n",
    "m"
   ]
  },
  {
   "cell_type": "markdown",
   "id": "5224406f",
   "metadata": {},
   "source": [
    "met2"
   ]
  },
  {
   "cell_type": "code",
   "execution_count": 41,
   "id": "7f32cd2a",
   "metadata": {},
   "outputs": [
    {
     "name": "stdout",
     "output_type": "stream",
     "text": [
      "[ 6.  8. 10.]\n",
      "3.3333333333333335  5.666666666666667\n"
     ]
    }
   ],
   "source": [
    "a=np.array([[2,5,3],[4,8,5]])\n",
    "sl1=0\n",
    "sl2=0\n",
    "for i in range(len(a)):\n",
    "    if i == 0:\n",
    "        for j in range(len(a[i])):\n",
    "            sl1=sl1+a[i][j]\n",
    "            ml1=sl1/len(a[i])\n",
    "        print (m)\n",
    "    else:\n",
    "        for j in range(len(a[i])):\n",
    "            sl2=sl2+a[i][j]\n",
    "            ml2=sl2/len(a[i])\n",
    "        print (ml1,\"\",ml2)\n",
    "        "
   ]
  },
  {
   "cell_type": "code",
   "execution_count": null,
   "id": "7f5cc73f",
   "metadata": {},
   "outputs": [],
   "source": []
  }
 ],
 "metadata": {
  "kernelspec": {
   "display_name": "Python 3 (ipykernel)",
   "language": "python",
   "name": "python3"
  },
  "language_info": {
   "codemirror_mode": {
    "name": "ipython",
    "version": 3
   },
   "file_extension": ".py",
   "mimetype": "text/x-python",
   "name": "python",
   "nbconvert_exporter": "python",
   "pygments_lexer": "ipython3",
   "version": "3.9.7"
  }
 },
 "nbformat": 4,
 "nbformat_minor": 5
}
